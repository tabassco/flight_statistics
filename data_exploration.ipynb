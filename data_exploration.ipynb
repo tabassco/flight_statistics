{
 "cells": [
  {
   "cell_type": "markdown",
   "metadata": {
    "collapsed": true,
    "pycharm": {
     "name": "#%% md\n"
    }
   },
   "source": [
    "# Data Exploration for ICAO Flight Statistics"
   ]
  },
  {
   "cell_type": "code",
   "execution_count": 7,
   "metadata": {
    "pycharm": {
     "name": "#%%\n"
    }
   },
   "outputs": [],
   "source": [
    "import pandas as pd\n",
    "import numpy as np\n",
    "\n",
    "import altair as alt\n",
    "\n",
    "from collections import Counter\n"
   ]
  },
  {
   "cell_type": "markdown",
   "metadata": {
    "pycharm": {
     "name": "#%% md\n"
    }
   },
   "source": [
    "## Import Data"
   ]
  },
  {
   "cell_type": "code",
   "execution_count": 2,
   "metadata": {
    "pycharm": {
     "name": "#%%\n"
    }
   },
   "outputs": [],
   "source": [
    "icao_incidents = pd.read_json(\"data/incident_icao.json\")"
   ]
  },
  {
   "cell_type": "markdown",
   "metadata": {
    "pycharm": {
     "name": "#%% md\n"
    }
   },
   "source": [
    "## Identify Data Structures"
   ]
  },
  {
   "cell_type": "markdown",
   "metadata": {
    "pycharm": {
     "name": "#%% md\n"
    }
   },
   "source": [
    "### Columns\n",
    "\n",
    "What type of information is present in the data set?"
   ]
  },
  {
   "cell_type": "code",
   "execution_count": 3,
   "metadata": {
    "pycharm": {
     "name": "#%%\n"
    }
   },
   "outputs": [
    {
     "data": {
      "text/plain": [
       "['Date',\n",
       " 'StateOfOccurrence',\n",
       " 'Location',\n",
       " 'Model',\n",
       " 'Registration',\n",
       " 'Operator',\n",
       " 'StateOfRegistry',\n",
       " 'FlightPhase',\n",
       " 'Class',\n",
       " 'Fatalities',\n",
       " 'Over2250',\n",
       " 'Over5700',\n",
       " 'ScheduledCommercial',\n",
       " 'InjuryLevel',\n",
       " 'TypeDesignator',\n",
       " 'Helicopter',\n",
       " 'Airplane',\n",
       " 'Engines',\n",
       " 'EngineType',\n",
       " 'StateOfOperator',\n",
       " 'Official',\n",
       " 'Risk',\n",
       " 'OccCats',\n",
       " 'Year']"
      ]
     },
     "execution_count": 3,
     "metadata": {},
     "output_type": "execute_result"
    }
   ],
   "source": [
    "list(icao_incidents)"
   ]
  },
  {
   "cell_type": "markdown",
   "metadata": {
    "pycharm": {
     "name": "#%% md\n"
    }
   },
   "source": [
    "### Check Values for interesting Parameters"
   ]
  },
  {
   "cell_type": "markdown",
   "metadata": {},
   "source": [
    "#### Incident Types"
   ]
  },
  {
   "cell_type": "code",
   "execution_count": 4,
   "metadata": {
    "pycharm": {
     "name": "#%%\n"
    }
   },
   "outputs": [
    {
     "data": {
      "text/plain": [
       "array(['Incident', 'Serious incident', 'Significant incident', '',\n",
       "       'Major incident', 'Occurrence without safety effect',\n",
       "       'Not determined', 'Report', 'Crash', 'News',\n",
       "       'Occurrence with No Flight Intended', 'Serious Incident'],\n",
       "      dtype=object)"
      ]
     },
     "execution_count": 4,
     "metadata": {},
     "output_type": "execute_result"
    }
   ],
   "source": [
    "icao_incidents.Class.unique()\n",
    "\n"
   ]
  },
  {
   "cell_type": "markdown",
   "metadata": {},
   "source": [
    "We can see, that the data has not been cleaned properly. \"Serious incident\" and \"Serious Incident\" are both present and need to be adapted. Also there is an ``empty string``, which needs to be replaced by a proper ``NaN`` value. "
   ]
  },
  {
   "cell_type": "code",
   "execution_count": 17,
   "metadata": {},
   "outputs": [
    {
     "data": {
      "text/plain": [
       "Counter({'Incident': 10435,\n",
       "         'Serious incident': 1948,\n",
       "         'Significant incident': 66,\n",
       "         '': 334,\n",
       "         'Major incident': 15,\n",
       "         'Occurrence without safety effect': 116,\n",
       "         'Not determined': 10,\n",
       "         'Report': 122,\n",
       "         'Crash': 2,\n",
       "         'News': 5,\n",
       "         'Occurrence with No Flight Intended': 2,\n",
       "         'Serious Incident': 345})"
      ]
     },
     "execution_count": 17,
     "metadata": {},
     "output_type": "execute_result"
    }
   ],
   "source": [
    "Counter(icao_incidents.Class)"
   ]
  },
  {
   "cell_type": "code",
   "execution_count": 5,
   "metadata": {
    "pycharm": {
     "name": "#%%\n"
    }
   },
   "outputs": [
    {
     "data": {
      "text/html": [
       "\n",
       "<div id=\"altair-viz-1c5bed44ff53497d98b7b09da4ce74b5\"></div>\n",
       "<script type=\"text/javascript\">\n",
       "  (function(spec, embedOpt){\n",
       "    let outputDiv = document.currentScript.previousElementSibling;\n",
       "    if (outputDiv.id !== \"altair-viz-1c5bed44ff53497d98b7b09da4ce74b5\") {\n",
       "      outputDiv = document.getElementById(\"altair-viz-1c5bed44ff53497d98b7b09da4ce74b5\");\n",
       "    }\n",
       "    const paths = {\n",
       "      \"vega\": \"https://cdn.jsdelivr.net/npm//vega@5?noext\",\n",
       "      \"vega-lib\": \"https://cdn.jsdelivr.net/npm//vega-lib?noext\",\n",
       "      \"vega-lite\": \"https://cdn.jsdelivr.net/npm//vega-lite@4.8.1?noext\",\n",
       "      \"vega-embed\": \"https://cdn.jsdelivr.net/npm//vega-embed@6?noext\",\n",
       "    };\n",
       "\n",
       "    function loadScript(lib) {\n",
       "      return new Promise(function(resolve, reject) {\n",
       "        var s = document.createElement('script');\n",
       "        s.src = paths[lib];\n",
       "        s.async = true;\n",
       "        s.onload = () => resolve(paths[lib]);\n",
       "        s.onerror = () => reject(`Error loading script: ${paths[lib]}`);\n",
       "        document.getElementsByTagName(\"head\")[0].appendChild(s);\n",
       "      });\n",
       "    }\n",
       "\n",
       "    function showError(err) {\n",
       "      outputDiv.innerHTML = `<div class=\"error\" style=\"color:red;\">${err}</div>`;\n",
       "      throw err;\n",
       "    }\n",
       "\n",
       "    function displayChart(vegaEmbed) {\n",
       "      vegaEmbed(outputDiv, spec, embedOpt)\n",
       "        .catch(err => showError(`Javascript Error: ${err.message}<br>This usually means there's a typo in your chart specification. See the javascript console for the full traceback.`));\n",
       "    }\n",
       "\n",
       "    if(typeof define === \"function\" && define.amd) {\n",
       "      requirejs.config({paths});\n",
       "      require([\"vega-embed\"], displayChart, err => showError(`Error loading script: ${err.message}`));\n",
       "    } else if (typeof vegaEmbed === \"function\") {\n",
       "      displayChart(vegaEmbed);\n",
       "    } else {\n",
       "      loadScript(\"vega\")\n",
       "        .then(() => loadScript(\"vega-lite\"))\n",
       "        .then(() => loadScript(\"vega-embed\"))\n",
       "        .catch(showError)\n",
       "        .then(() => displayChart(vegaEmbed));\n",
       "    }\n",
       "  })({\"config\": {\"view\": {\"continuousWidth\": 400, \"continuousHeight\": 300}}, \"data\": {\"name\": \"data-6918b559121425ae9387c33d6b625a9e\"}, \"mark\": \"bar\", \"encoding\": {\"x\": {\"type\": \"quantitative\", \"field\": \"Count\"}, \"y\": {\"type\": \"nominal\", \"field\": \"Class\"}}, \"$schema\": \"https://vega.github.io/schema/vega-lite/v4.8.1.json\", \"datasets\": {\"data-6918b559121425ae9387c33d6b625a9e\": [{\"Count\": 334, \"Class\": \"\"}, {\"Count\": 2, \"Class\": \"Crash\"}, {\"Count\": 10435, \"Class\": \"Incident\"}, {\"Count\": 15, \"Class\": \"Major incident\"}, {\"Count\": 5, \"Class\": \"News\"}, {\"Count\": 10, \"Class\": \"Not determined\"}, {\"Count\": 2, \"Class\": \"Occurrence with No Flight Intended\"}, {\"Count\": 116, \"Class\": \"Occurrence without safety effect\"}, {\"Count\": 122, \"Class\": \"Report\"}, {\"Count\": 345, \"Class\": \"Serious Incident\"}, {\"Count\": 1948, \"Class\": \"Serious incident\"}, {\"Count\": 66, \"Class\": \"Significant incident\"}]}}, {\"mode\": \"vega-lite\"});\n",
       "</script>"
      ],
      "text/plain": [
       "alt.Chart(...)"
      ]
     },
     "execution_count": 5,
     "metadata": {},
     "output_type": "execute_result"
    }
   ],
   "source": [
    "unique_classes = icao_incidents[[\"Year\", \"Class\"]].groupby(\"Class\").count()\n",
    "\n",
    "\n",
    "unique_classes.columns = [\"Count\"]\n",
    "unique_classes[\"Class\"] = unique_classes.index\n",
    "unique_classes.index = list(range(12))\n",
    "\n",
    "alt.Chart(unique_classes).mark_bar().encode(\n",
    "    x = \"Count\",\n",
    "    y = \"Class\"\n",
    ")"
   ]
  },
  {
   "cell_type": "markdown",
   "metadata": {},
   "source": [
    "#### Total Amount of Airplane and Helicopter Types and incidents by Aircraft Type"
   ]
  },
  {
   "cell_type": "code",
   "execution_count": 37,
   "metadata": {},
   "outputs": [
    {
     "name": "stdout",
     "output_type": "stream",
     "text": [
      "Absolut Number of Airplane Incidents:\t13133\n",
      "Percentate of Incidents:\t\t 98.01 %\n"
     ]
    }
   ],
   "source": [
    "total_number_airplane = icao_incidents[icao_incidents[\"Airplane\"]==True].shape[0]\n",
    "percentage_airplane = total_number_airplane / icao_incidents.shape[0] * 100\n",
    "print(f\"Absolut Number of Airplane Incidents:\\t{total_number_airplane}\\nPercentate of Incidents:\\t\\t{percentage_airplane: .2f} %\")"
   ]
  },
  {
   "cell_type": "code",
   "execution_count": 20,
   "metadata": {},
   "outputs": [
    {
     "data": {
      "text/plain": [
       "1044"
      ]
     },
     "execution_count": 20,
     "metadata": {},
     "output_type": "execute_result"
    }
   ],
   "source": [
    "len(icao_incidents[icao_incidents[\"Airplane\"]==True].Model.unique())"
   ]
  },
  {
   "cell_type": "code",
   "execution_count": 39,
   "metadata": {},
   "outputs": [
    {
     "name": "stdout",
     "output_type": "stream",
     "text": [
      "Absolut Number of Helicopter Incidents:\t267\n",
      "Percentate of Incidents:\t\t 1.99 %\n"
     ]
    }
   ],
   "source": [
    "total_number_heli = icao_incidents[icao_incidents[\"Helicopter\"]==True].shape[0]\n",
    "percentage_heli = total_number_heli / icao_incidents.shape[0] * 100\n",
    "print(f\"Absolut Number of Helicopter Incidents:\\t{total_number_heli}\\nPercentate of Incidents:\\t\\t{percentage_heli: .2f} %\")"
   ]
  },
  {
   "cell_type": "code",
   "execution_count": 21,
   "metadata": {},
   "outputs": [
    {
     "data": {
      "text/plain": [
       "85"
      ]
     },
     "execution_count": 21,
     "metadata": {},
     "output_type": "execute_result"
    }
   ],
   "source": [
    "len(icao_incidents[icao_incidents[\"Helicopter\"]==True].Model.unique())"
   ]
  },
  {
   "cell_type": "markdown",
   "metadata": {},
   "source": [
    "The data is clearly containing a majority of airplane incidents. With only close to 2% of incidents resulting from helicopter flights."
   ]
  },
  {
   "cell_type": "markdown",
   "metadata": {
    "pycharm": {
     "name": "#%% md\n"
    }
   },
   "source": [
    "## Check Values and Distributions"
   ]
  },
  {
   "cell_type": "code",
   "execution_count": null,
   "metadata": {},
   "outputs": [],
   "source": []
  }
 ],
 "metadata": {
  "@webio": {
   "lastCommId": null,
   "lastKernelId": null
  },
  "kernelspec": {
   "display_name": "Python 3",
   "language": "python",
   "name": "python3"
  },
  "language_info": {
   "codemirror_mode": {
    "name": "ipython",
    "version": 3
   },
   "file_extension": ".py",
   "mimetype": "text/x-python",
   "name": "python",
   "nbconvert_exporter": "python",
   "pygments_lexer": "ipython3",
   "version": "3.8.2"
  }
 },
 "nbformat": 4,
 "nbformat_minor": 1
}
